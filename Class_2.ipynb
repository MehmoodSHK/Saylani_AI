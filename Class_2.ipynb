{
 "cells": [
  {
   "cell_type": "code",
   "execution_count": 15,
   "id": "e52dcf52",
   "metadata": {},
   "outputs": [
    {
     "name": "stdout",
     "output_type": "stream",
     "text": [
      "Hello Python\n"
     ]
    }
   ],
   "source": [
    "print(\"Hello Python\")"
   ]
  },
  {
   "cell_type": "code",
   "execution_count": 16,
   "id": "562a28cf",
   "metadata": {},
   "outputs": [
    {
     "name": "stdout",
     "output_type": "stream",
     "text": [
      "I am Muhammad Mehmood\n"
     ]
    }
   ],
   "source": [
    "print(\"I am Muhammad Mehmood\")"
   ]
  },
  {
   "cell_type": "code",
   "execution_count": 17,
   "id": "03ad634a",
   "metadata": {},
   "outputs": [
    {
     "name": "stdout",
     "output_type": "stream",
     "text": [
      "I---Am---Muhammad---Mehmood\n"
     ]
    }
   ],
   "source": [
    "print(\"I\", \"Am\", \"Muhammad\", \"Mehmood\", sep=\"---\")"
   ]
  },
  {
   "cell_type": "code",
   "execution_count": 18,
   "id": "a894b773",
   "metadata": {},
   "outputs": [
    {
     "name": "stdout",
     "output_type": "stream",
     "text": [
      "I\n",
      "Am\n",
      "Muhammad\n",
      "Mehmood\n"
     ]
    }
   ],
   "source": [
    "print(\"I\", \"Am\", \"Muhammad\", \"Mehmood\", sep=\"\\n\")"
   ]
  },
  {
   "cell_type": "code",
   "execution_count": 19,
   "id": "1f643d12",
   "metadata": {},
   "outputs": [
    {
     "name": "stdout",
     "output_type": "stream",
     "text": [
      "Hello I am Learning Data Science and AI\n"
     ]
    }
   ],
   "source": [
    "print(\"Hello I am Learning Data Science and AI\")"
   ]
  },
  {
   "cell_type": "code",
   "execution_count": 14,
   "id": "4827d97a",
   "metadata": {},
   "outputs": [
    {
     "name": "stdout",
     "output_type": "stream",
     "text": [
      "Paragraphs are a conventional way to organize writing, \n",
      "and are the building blocks of essays,\n",
      "reports, and other written works. \n",
      "They help readers understand the structure of a piece and grasp its main points. \n",
      "\n"
     ]
    }
   ],
   "source": [
    "print(\"\"\"Paragraphs are a conventional way to organize writing, \n",
    "and are the building blocks of essays,\n",
    "reports, and other written works. \n",
    "They help readers understand the structure of a piece and grasp its main points. \n",
    "\"\"\")"
   ]
  },
  {
   "cell_type": "code",
   "execution_count": 20,
   "id": "2fbedc95",
   "metadata": {},
   "outputs": [
    {
     "name": "stdout",
     "output_type": "stream",
     "text": [
      "12 Text\n"
     ]
    }
   ],
   "source": [
    "print(12, \"Text\")"
   ]
  },
  {
   "cell_type": "markdown",
   "id": "c6917aa3",
   "metadata": {},
   "source": [
    "# Data:\n"
   ]
  },
  {
   "cell_type": "markdown",
   "id": "b0b8d24b",
   "metadata": {},
   "source": [
    "\n",
    "## Data Type\n",
    "      ### Number \n",
    "           - Whole Numbers (integers) >>> int\n",
    "           - Decimal Numbers (floats) >>>> float\n",
    "      ### Alphabets\n",
    "           - Text/Paragraph (string)  >>> str\n",
    "      ### Boolean\n",
    "            - True /False   (Boolean) >>> bool"
   ]
  },
  {
   "cell_type": "code",
   "execution_count": 22,
   "id": "41b5d462",
   "metadata": {},
   "outputs": [
    {
     "name": "stdout",
     "output_type": "stream",
     "text": [
      "12\n"
     ]
    }
   ],
   "source": [
    "print(12)"
   ]
  },
  {
   "cell_type": "code",
   "execution_count": 23,
   "id": "07449b61",
   "metadata": {},
   "outputs": [
    {
     "name": "stdout",
     "output_type": "stream",
     "text": [
      "120.4\n"
     ]
    }
   ],
   "source": [
    "print(120.4)"
   ]
  },
  {
   "cell_type": "code",
   "execution_count": 24,
   "id": "993eb128",
   "metadata": {},
   "outputs": [
    {
     "name": "stdout",
     "output_type": "stream",
     "text": [
      "False\n"
     ]
    }
   ],
   "source": [
    "print(False)"
   ]
  },
  {
   "cell_type": "code",
   "execution_count": 25,
   "id": "a508c3c8",
   "metadata": {},
   "outputs": [
    {
     "name": "stdout",
     "output_type": "stream",
     "text": [
      "True\n"
     ]
    }
   ],
   "source": [
    "print(True)"
   ]
  },
  {
   "cell_type": "code",
   "execution_count": 26,
   "id": "7e0fe8bd",
   "metadata": {},
   "outputs": [
    {
     "data": {
      "text/plain": [
       "int"
      ]
     },
     "execution_count": 26,
     "metadata": {},
     "output_type": "execute_result"
    }
   ],
   "source": [
    "type(120)"
   ]
  },
  {
   "cell_type": "code",
   "execution_count": 27,
   "id": "f0538627",
   "metadata": {},
   "outputs": [
    {
     "data": {
      "text/plain": [
       "float"
      ]
     },
     "execution_count": 27,
     "metadata": {},
     "output_type": "execute_result"
    }
   ],
   "source": [
    "type(20.9)"
   ]
  },
  {
   "cell_type": "code",
   "execution_count": 28,
   "id": "d22828ec",
   "metadata": {},
   "outputs": [
    {
     "data": {
      "text/plain": [
       "bool"
      ]
     },
     "execution_count": 28,
     "metadata": {},
     "output_type": "execute_result"
    }
   ],
   "source": [
    "type(True)"
   ]
  },
  {
   "cell_type": "code",
   "execution_count": 29,
   "id": "df7797ac",
   "metadata": {},
   "outputs": [
    {
     "data": {
      "text/plain": [
       "bool"
      ]
     },
     "execution_count": 29,
     "metadata": {},
     "output_type": "execute_result"
    }
   ],
   "source": [
    "type(False)"
   ]
  },
  {
   "cell_type": "markdown",
   "id": "aa5a1910",
   "metadata": {},
   "source": [
    "# Operators"
   ]
  },
  {
   "cell_type": "markdown",
   "id": "5df5105c",
   "metadata": {},
   "source": [
    "# Arithmatic Operators"
   ]
  },
  {
   "cell_type": "code",
   "execution_count": 30,
   "id": "52d56841",
   "metadata": {},
   "outputs": [
    {
     "data": {
      "text/plain": [
       "5"
      ]
     },
     "execution_count": 30,
     "metadata": {},
     "output_type": "execute_result"
    }
   ],
   "source": [
    "2+3"
   ]
  },
  {
   "cell_type": "code",
   "execution_count": 31,
   "id": "cb7bb099",
   "metadata": {},
   "outputs": [
    {
     "data": {
      "text/plain": [
       "6"
      ]
     },
     "execution_count": 31,
     "metadata": {},
     "output_type": "execute_result"
    }
   ],
   "source": [
    "3+3"
   ]
  },
  {
   "cell_type": "code",
   "execution_count": 32,
   "id": "8034f3a0",
   "metadata": {},
   "outputs": [
    {
     "data": {
      "text/plain": [
       "-2"
      ]
     },
     "execution_count": 32,
     "metadata": {},
     "output_type": "execute_result"
    }
   ],
   "source": [
    "10-12"
   ]
  },
  {
   "cell_type": "code",
   "execution_count": 33,
   "id": "533de43d",
   "metadata": {},
   "outputs": [
    {
     "data": {
      "text/plain": [
       "45"
      ]
     },
     "execution_count": 33,
     "metadata": {},
     "output_type": "execute_result"
    }
   ],
   "source": [
    "100-55"
   ]
  },
  {
   "cell_type": "code",
   "execution_count": 34,
   "id": "e4805b89",
   "metadata": {},
   "outputs": [
    {
     "data": {
      "text/plain": [
       "15"
      ]
     },
     "execution_count": 34,
     "metadata": {},
     "output_type": "execute_result"
    }
   ],
   "source": [
    "3*5"
   ]
  },
  {
   "cell_type": "code",
   "execution_count": 35,
   "id": "148b0af6",
   "metadata": {},
   "outputs": [
    {
     "data": {
      "text/plain": [
       "3025"
      ]
     },
     "execution_count": 35,
     "metadata": {},
     "output_type": "execute_result"
    }
   ],
   "source": [
    "55*55"
   ]
  },
  {
   "cell_type": "code",
   "execution_count": 37,
   "id": "f63c838c",
   "metadata": {},
   "outputs": [
    {
     "data": {
      "text/plain": [
       "14.666666666666666"
      ]
     },
     "execution_count": 37,
     "metadata": {},
     "output_type": "execute_result"
    }
   ],
   "source": [
    "44/3 #Float division"
   ]
  },
  {
   "cell_type": "code",
   "execution_count": 39,
   "id": "16c26b6b",
   "metadata": {},
   "outputs": [
    {
     "data": {
      "text/plain": [
       "14"
      ]
     },
     "execution_count": 39,
     "metadata": {},
     "output_type": "execute_result"
    }
   ],
   "source": [
    "44//3 #Float division"
   ]
  },
  {
   "cell_type": "code",
   "execution_count": 40,
   "id": "8b07fb8f",
   "metadata": {},
   "outputs": [
    {
     "data": {
      "text/plain": [
       "0"
      ]
     },
     "execution_count": 40,
     "metadata": {},
     "output_type": "execute_result"
    }
   ],
   "source": [
    "10%2"
   ]
  },
  {
   "cell_type": "code",
   "execution_count": 41,
   "id": "fd9ac6af",
   "metadata": {},
   "outputs": [
    {
     "data": {
      "text/plain": [
       "2"
      ]
     },
     "execution_count": 41,
     "metadata": {},
     "output_type": "execute_result"
    }
   ],
   "source": [
    "10&3"
   ]
  },
  {
   "cell_type": "code",
   "execution_count": 42,
   "id": "8ccdc07a",
   "metadata": {},
   "outputs": [
    {
     "data": {
      "text/plain": [
       "0"
      ]
     },
     "execution_count": 42,
     "metadata": {},
     "output_type": "execute_result"
    }
   ],
   "source": [
    "33%3"
   ]
  },
  {
   "cell_type": "code",
   "execution_count": 43,
   "id": "010f8d2a",
   "metadata": {},
   "outputs": [
    {
     "data": {
      "text/plain": [
       "1"
      ]
     },
     "execution_count": 43,
     "metadata": {},
     "output_type": "execute_result"
    }
   ],
   "source": [
    "40%3"
   ]
  },
  {
   "cell_type": "code",
   "execution_count": 44,
   "id": "989d9d21",
   "metadata": {},
   "outputs": [
    {
     "data": {
      "text/plain": [
       "4"
      ]
     },
     "execution_count": 44,
     "metadata": {},
     "output_type": "execute_result"
    }
   ],
   "source": [
    "2**2"
   ]
  },
  {
   "cell_type": "code",
   "execution_count": 45,
   "id": "c82aaea6",
   "metadata": {},
   "outputs": [
    {
     "data": {
      "text/plain": [
       "27"
      ]
     },
     "execution_count": 45,
     "metadata": {},
     "output_type": "execute_result"
    }
   ],
   "source": [
    "3**3"
   ]
  },
  {
   "cell_type": "code",
   "execution_count": 46,
   "id": "172d3e72",
   "metadata": {},
   "outputs": [
    {
     "data": {
      "text/plain": [
       "16"
      ]
     },
     "execution_count": 46,
     "metadata": {},
     "output_type": "execute_result"
    }
   ],
   "source": [
    "2**4"
   ]
  },
  {
   "cell_type": "code",
   "execution_count": 47,
   "id": "0108725c",
   "metadata": {},
   "outputs": [
    {
     "data": {
      "text/plain": [
       "False"
      ]
     },
     "execution_count": 47,
     "metadata": {},
     "output_type": "execute_result"
    }
   ],
   "source": [
    "100<2"
   ]
  },
  {
   "cell_type": "code",
   "execution_count": 48,
   "id": "8a6ba159",
   "metadata": {},
   "outputs": [
    {
     "data": {
      "text/plain": [
       "True"
      ]
     },
     "execution_count": 48,
     "metadata": {},
     "output_type": "execute_result"
    }
   ],
   "source": [
    "100>10"
   ]
  },
  {
   "cell_type": "code",
   "execution_count": 49,
   "id": "129b7626",
   "metadata": {},
   "outputs": [
    {
     "data": {
      "text/plain": [
       "False"
      ]
     },
     "execution_count": 49,
     "metadata": {},
     "output_type": "execute_result"
    }
   ],
   "source": [
    "100==66"
   ]
  },
  {
   "cell_type": "code",
   "execution_count": 50,
   "id": "79fccd33",
   "metadata": {},
   "outputs": [
    {
     "data": {
      "text/plain": [
       "True"
      ]
     },
     "execution_count": 50,
     "metadata": {},
     "output_type": "execute_result"
    }
   ],
   "source": [
    "100!=77"
   ]
  },
  {
   "cell_type": "code",
   "execution_count": 52,
   "id": "4d2fbc71",
   "metadata": {},
   "outputs": [
    {
     "data": {
      "text/plain": [
       "True"
      ]
     },
     "execution_count": 52,
     "metadata": {},
     "output_type": "execute_result"
    }
   ],
   "source": [
    "100!=33"
   ]
  },
  {
   "cell_type": "code",
   "execution_count": 54,
   "id": "e338e510",
   "metadata": {},
   "outputs": [
    {
     "data": {
      "text/plain": [
       "False"
      ]
     },
     "execution_count": 54,
     "metadata": {},
     "output_type": "execute_result"
    }
   ],
   "source": [
    "23>=44"
   ]
  },
  {
   "cell_type": "code",
   "execution_count": 55,
   "id": "ee94ac79",
   "metadata": {},
   "outputs": [
    {
     "data": {
      "text/plain": [
       "True"
      ]
     },
     "execution_count": 55,
     "metadata": {},
     "output_type": "execute_result"
    }
   ],
   "source": [
    "500>=35"
   ]
  },
  {
   "cell_type": "code",
   "execution_count": 57,
   "id": "c521b0f3",
   "metadata": {},
   "outputs": [
    {
     "data": {
      "text/plain": [
       "True"
      ]
     },
     "execution_count": 57,
     "metadata": {},
     "output_type": "execute_result"
    }
   ],
   "source": [
    "500<=560"
   ]
  },
  {
   "cell_type": "markdown",
   "id": "ef2916e1",
   "metadata": {},
   "source": [
    "# Variable"
   ]
  },
  {
   "cell_type": "code",
   "execution_count": 58,
   "id": "595d43a2",
   "metadata": {},
   "outputs": [],
   "source": [
    "text= \"Hello\""
   ]
  },
  {
   "cell_type": "code",
   "execution_count": 60,
   "id": "35bbf860",
   "metadata": {},
   "outputs": [],
   "source": [
    "first_Name= \"Muhammad\""
   ]
  },
  {
   "cell_type": "code",
   "execution_count": 61,
   "id": "41a704fd",
   "metadata": {},
   "outputs": [],
   "source": [
    "last_name= \"Mehmood\""
   ]
  },
  {
   "cell_type": "code",
   "execution_count": 63,
   "id": "f9b7f7fe",
   "metadata": {},
   "outputs": [
    {
     "data": {
      "text/plain": [
       "'Muhammad'"
      ]
     },
     "execution_count": 63,
     "metadata": {},
     "output_type": "execute_result"
    }
   ],
   "source": [
    "first_Name"
   ]
  },
  {
   "cell_type": "code",
   "execution_count": 64,
   "id": "76bf0a94",
   "metadata": {},
   "outputs": [],
   "source": [
    "full_name= first_Name + last_name"
   ]
  },
  {
   "cell_type": "code",
   "execution_count": 65,
   "id": "b9f945ab",
   "metadata": {},
   "outputs": [
    {
     "data": {
      "text/plain": [
       "'MuhammadMehmood'"
      ]
     },
     "execution_count": 65,
     "metadata": {},
     "output_type": "execute_result"
    }
   ],
   "source": [
    "full_name"
   ]
  },
  {
   "cell_type": "code",
   "execution_count": 66,
   "id": "31f7c916",
   "metadata": {},
   "outputs": [
    {
     "name": "stdout",
     "output_type": "stream",
     "text": [
      "MuhammadMehmood\n"
     ]
    }
   ],
   "source": [
    "print(full_name, sep=\"--\")"
   ]
  },
  {
   "cell_type": "code",
   "execution_count": 68,
   "id": "396870fc",
   "metadata": {},
   "outputs": [],
   "source": [
    "age=26\n",
    "weight= 60.70\n"
   ]
  },
  {
   "cell_type": "code",
   "execution_count": 69,
   "id": "10f1012e",
   "metadata": {},
   "outputs": [
    {
     "data": {
      "text/plain": [
       "26"
      ]
     },
     "execution_count": 69,
     "metadata": {},
     "output_type": "execute_result"
    }
   ],
   "source": [
    "age"
   ]
  },
  {
   "cell_type": "code",
   "execution_count": null,
   "id": "9bb1eb7e",
   "metadata": {},
   "outputs": [],
   "source": []
  }
 ],
 "metadata": {
  "kernelspec": {
   "display_name": "Python 3 (ipykernel)",
   "language": "python",
   "name": "python3"
  },
  "language_info": {
   "codemirror_mode": {
    "name": "ipython",
    "version": 3
   },
   "file_extension": ".py",
   "mimetype": "text/x-python",
   "name": "python",
   "nbconvert_exporter": "python",
   "pygments_lexer": "ipython3",
   "version": "3.11.5"
  }
 },
 "nbformat": 4,
 "nbformat_minor": 5
}
