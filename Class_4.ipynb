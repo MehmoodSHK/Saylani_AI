{
 "cells": [
  {
   "cell_type": "markdown",
   "id": "4fc7ed54",
   "metadata": {},
   "source": [
    "# Python Collections : Python Data structures \n",
    "\n",
    "- List\n",
    "- Dictionary\n",
    "- Tuple\n",
    "- Sets"
   ]
  },
  {
   "cell_type": "markdown",
   "id": "e35f8139",
   "metadata": {},
   "source": [
    "# List:\n",
    "            - List is python collection.\n",
    "            - Can hold values collection.\n",
    "            - Can hold many data types.\n",
    "            - Is mutable.\n",
    "            - Interable."
   ]
  },
  {
   "cell_type": "markdown",
   "id": "edcffff5",
   "metadata": {},
   "source": [
    "# List declaration: [ ]"
   ]
  },
  {
   "cell_type": "code",
   "execution_count": 1,
   "id": "f3cb07b9",
   "metadata": {},
   "outputs": [],
   "source": [
    "student_name = \"Yaseen\""
   ]
  },
  {
   "cell_type": "code",
   "execution_count": 2,
   "id": "411d25a8",
   "metadata": {},
   "outputs": [],
   "source": [
    "student= [\"Yaseen\", \"Ali\", \"Mushtaq\", \"Wali\", \"Momin\", \"Farooq\", \"Mhd\", \"Elen\"]"
   ]
  },
  {
   "cell_type": "code",
   "execution_count": 3,
   "id": "22cdb106",
   "metadata": {},
   "outputs": [
    {
     "name": "stdout",
     "output_type": "stream",
     "text": [
      "<class 'list'>\n"
     ]
    }
   ],
   "source": [
    "print(type(student))"
   ]
  },
  {
   "cell_type": "code",
   "execution_count": 4,
   "id": "8425236e",
   "metadata": {},
   "outputs": [
    {
     "data": {
      "text/plain": [
       "8"
      ]
     },
     "execution_count": 4,
     "metadata": {},
     "output_type": "execute_result"
    }
   ],
   "source": [
    "len(student)"
   ]
  },
  {
   "cell_type": "code",
   "execution_count": 5,
   "id": "fd59d698",
   "metadata": {},
   "outputs": [],
   "source": [
    "items= []"
   ]
  },
  {
   "cell_type": "code",
   "execution_count": 6,
   "id": "2a958d36",
   "metadata": {},
   "outputs": [
    {
     "name": "stdout",
     "output_type": "stream",
     "text": [
      "[]\n"
     ]
    }
   ],
   "source": [
    "print(items)"
   ]
  },
  {
   "cell_type": "code",
   "execution_count": 7,
   "id": "4ffb3d67",
   "metadata": {},
   "outputs": [
    {
     "data": {
      "text/plain": [
       "0"
      ]
     },
     "execution_count": 7,
     "metadata": {},
     "output_type": "execute_result"
    }
   ],
   "source": [
    "len(items)"
   ]
  },
  {
   "cell_type": "markdown",
   "id": "a5cedd5a",
   "metadata": {},
   "source": [
    "# List indexing:"
   ]
  },
  {
   "cell_type": "code",
   "execution_count": 8,
   "id": "a5774c4d",
   "metadata": {},
   "outputs": [],
   "source": [
    "#           -8       -7        -6       -5       -4       -3       -2     -1\n",
    "student= [\"Yaseen\", \"Ali\", \"Mushtaq\", \"Wali\", \"Momin\", \"Farooq\", \"Mhd\", \"Elen\"]\n",
    "#index       0        1         2        3       4         5       6      7"
   ]
  },
  {
   "cell_type": "code",
   "execution_count": 9,
   "id": "6b6aa64d",
   "metadata": {},
   "outputs": [],
   "source": [
    "student[-1] = \"Wasi\""
   ]
  },
  {
   "cell_type": "code",
   "execution_count": 10,
   "id": "231c257f",
   "metadata": {},
   "outputs": [
    {
     "data": {
      "text/plain": [
       "['Yaseen', 'Ali', 'Mushtaq', 'Wali', 'Momin', 'Farooq', 'Mhd', 'Wasi']"
      ]
     },
     "execution_count": 10,
     "metadata": {},
     "output_type": "execute_result"
    }
   ],
   "source": [
    "student"
   ]
  },
  {
   "cell_type": "code",
   "execution_count": 11,
   "id": "68d68ad0",
   "metadata": {},
   "outputs": [
    {
     "data": {
      "text/plain": [
       "'Farooq'"
      ]
     },
     "execution_count": 11,
     "metadata": {},
     "output_type": "execute_result"
    }
   ],
   "source": [
    "student[5]"
   ]
  },
  {
   "cell_type": "markdown",
   "id": "543319ee",
   "metadata": {},
   "source": [
    "# Adding members to an existing list\n",
    "        - append () : adds a member at very last.\n",
    "        - insert () : adds a member at provided index\n",
    "        - extend () : adds many members together in list \n",
    "        - +         : concatenate two lists"
   ]
  },
  {
   "cell_type": "code",
   "execution_count": 12,
   "id": "ecfb70f8",
   "metadata": {},
   "outputs": [],
   "source": [
    "student.append(\"Zaid\")"
   ]
  },
  {
   "cell_type": "code",
   "execution_count": 13,
   "id": "1a3e7498",
   "metadata": {},
   "outputs": [
    {
     "data": {
      "text/plain": [
       "['Yaseen', 'Ali', 'Mushtaq', 'Wali', 'Momin', 'Farooq', 'Mhd', 'Wasi', 'Zaid']"
      ]
     },
     "execution_count": 13,
     "metadata": {},
     "output_type": "execute_result"
    }
   ],
   "source": [
    "student"
   ]
  },
  {
   "cell_type": "code",
   "execution_count": 14,
   "id": "dbe4e6b2",
   "metadata": {},
   "outputs": [],
   "source": [
    "student.insert(3, \"Waseem\")"
   ]
  },
  {
   "cell_type": "code",
   "execution_count": 15,
   "id": "7bd4339e",
   "metadata": {},
   "outputs": [
    {
     "data": {
      "text/plain": [
       "['Yaseen',\n",
       " 'Ali',\n",
       " 'Mushtaq',\n",
       " 'Waseem',\n",
       " 'Wali',\n",
       " 'Momin',\n",
       " 'Farooq',\n",
       " 'Mhd',\n",
       " 'Wasi',\n",
       " 'Zaid']"
      ]
     },
     "execution_count": 15,
     "metadata": {},
     "output_type": "execute_result"
    }
   ],
   "source": [
    "student"
   ]
  },
  {
   "cell_type": "code",
   "execution_count": 16,
   "id": "e09312da",
   "metadata": {},
   "outputs": [],
   "source": [
    "student.insert(300, \"Kamran\")"
   ]
  },
  {
   "cell_type": "code",
   "execution_count": 17,
   "id": "2cd609f9",
   "metadata": {},
   "outputs": [
    {
     "data": {
      "text/plain": [
       "['Yaseen',\n",
       " 'Ali',\n",
       " 'Mushtaq',\n",
       " 'Waseem',\n",
       " 'Wali',\n",
       " 'Momin',\n",
       " 'Farooq',\n",
       " 'Mhd',\n",
       " 'Wasi',\n",
       " 'Zaid',\n",
       " 'Kamran']"
      ]
     },
     "execution_count": 17,
     "metadata": {},
     "output_type": "execute_result"
    }
   ],
   "source": [
    "student"
   ]
  },
  {
   "cell_type": "code",
   "execution_count": 18,
   "id": "232e3f61",
   "metadata": {},
   "outputs": [
    {
     "ename": "TypeError",
     "evalue": "insert expected 2 arguments, got 3",
     "output_type": "error",
     "traceback": [
      "\u001b[1;31m---------------------------------------------------------------------------\u001b[0m",
      "\u001b[1;31mTypeError\u001b[0m                                 Traceback (most recent call last)",
      "Cell \u001b[1;32mIn[18], line 1\u001b[0m\n\u001b[1;32m----> 1\u001b[0m student\u001b[38;5;241m.\u001b[39minsert(\u001b[38;5;241m4\u001b[39m, \u001b[38;5;124m\"\u001b[39m\u001b[38;5;124mSunny\u001b[39m\u001b[38;5;124m\"\u001b[39m, \u001b[38;5;124m\"\u001b[39m\u001b[38;5;124mSania\u001b[39m\u001b[38;5;124m\"\u001b[39m)\n",
      "\u001b[1;31mTypeError\u001b[0m: insert expected 2 arguments, got 3"
     ]
    }
   ],
   "source": [
    "student.insert(4, \"Sunny\", \"Sania\")"
   ]
  },
  {
   "cell_type": "code",
   "execution_count": null,
   "id": "721ac8af",
   "metadata": {},
   "outputs": [],
   "source": [
    "student.extend(\"Sunny\", \"Sania\", \"Sana\", \"Atif\", \"Bilal\")"
   ]
  },
  {
   "cell_type": "code",
   "execution_count": null,
   "id": "a64f14c4",
   "metadata": {},
   "outputs": [],
   "source": [
    "student.append([\"Sunny\", \"Sania\", \"Sana\", \"Atif\", \"Bilal\"])\n",
    "student"
   ]
  },
  {
   "cell_type": "code",
   "execution_count": null,
   "id": "9f485558",
   "metadata": {},
   "outputs": [],
   "source": [
    "student.extend([\"Sunny\", \"Sania\", \"Sana\", \"Atif\", \"Bilal\"])\n",
    "student"
   ]
  },
  {
   "cell_type": "code",
   "execution_count": null,
   "id": "d39fa4cf",
   "metadata": {},
   "outputs": [],
   "source": [
    "teachers = [\"Nasir Teacher\", \"Asad Teacher\"]"
   ]
  },
  {
   "cell_type": "code",
   "execution_count": null,
   "id": "4a5b2002",
   "metadata": {},
   "outputs": [],
   "source": [
    "student + teachers"
   ]
  },
  {
   "cell_type": "markdown",
   "id": "60957117",
   "metadata": {},
   "source": [
    "# Deleting / Remove Members from an existing List\n",
    "- del statement : delete a member via index permanently\n",
    "- remove () : delete a member via value permanently / Remove first occurance of value\n",
    "- pop () : delete a member via index permanently / \n",
    "- clear () : deletes all members from list permanently"
   ]
  },
  {
   "cell_type": "code",
   "execution_count": null,
   "id": "92520ee5",
   "metadata": {},
   "outputs": [],
   "source": [
    "del student_name"
   ]
  },
  {
   "cell_type": "code",
   "execution_count": null,
   "id": "6ce6942b",
   "metadata": {},
   "outputs": [],
   "source": [
    "student_name"
   ]
  },
  {
   "cell_type": "code",
   "execution_count": null,
   "id": "20357442",
   "metadata": {},
   "outputs": [],
   "source": [
    "# del statement : delete a member via index permenently\n",
    "del student [11]"
   ]
  },
  {
   "cell_type": "code",
   "execution_count": null,
   "id": "09176fc5",
   "metadata": {},
   "outputs": [],
   "source": [
    "student"
   ]
  },
  {
   "cell_type": "code",
   "execution_count": null,
   "id": "eaa15211",
   "metadata": {},
   "outputs": [],
   "source": [
    " del student [11:12]"
   ]
  },
  {
   "cell_type": "code",
   "execution_count": null,
   "id": "b637b6c6",
   "metadata": {},
   "outputs": [],
   "source": [
    "student"
   ]
  },
  {
   "cell_type": "code",
   "execution_count": null,
   "id": "4e10c4b8",
   "metadata": {},
   "outputs": [],
   "source": [
    "# remove () : delete a member via value permenently : Remove first occurance of value\n",
    "student.remove(\"Zaid\")"
   ]
  },
  {
   "cell_type": "code",
   "execution_count": null,
   "id": "511c19f0",
   "metadata": {},
   "outputs": [],
   "source": [
    "student"
   ]
  },
  {
   "cell_type": "code",
   "execution_count": null,
   "id": "1c16db8e",
   "metadata": {},
   "outputs": [],
   "source": [
    "student.remove(\"Zaidi\")"
   ]
  },
  {
   "cell_type": "code",
   "execution_count": null,
   "id": "720f1e7e",
   "metadata": {},
   "outputs": [],
   "source": [
    "# remove a value by default from last index\n",
    "# but it return the removed value.\n",
    "student.pop()"
   ]
  },
  {
   "cell_type": "code",
   "execution_count": null,
   "id": "09ce8286",
   "metadata": {},
   "outputs": [],
   "source": [
    "popped_student = student.pop()\n",
    "popped_student"
   ]
  },
  {
   "cell_type": "code",
   "execution_count": null,
   "id": "821fc8ca",
   "metadata": {},
   "outputs": [],
   "source": [
    "popped_student"
   ]
  },
  {
   "cell_type": "code",
   "execution_count": null,
   "id": "8e33abc2",
   "metadata": {},
   "outputs": [],
   "source": [
    "student"
   ]
  },
  {
   "cell_type": "code",
   "execution_count": null,
   "id": "ef0d266e",
   "metadata": {},
   "outputs": [],
   "source": [
    "#  pop can delete from a given index\n",
    "student.pop(6)"
   ]
  },
  {
   "cell_type": "code",
   "execution_count": null,
   "id": "040800d2",
   "metadata": {},
   "outputs": [],
   "source": [
    "student.clear()"
   ]
  },
  {
   "cell_type": "code",
   "execution_count": null,
   "id": "cda60d55",
   "metadata": {},
   "outputs": [],
   "source": [
    "student"
   ]
  },
  {
   "cell_type": "code",
   "execution_count": null,
   "id": "a4863ef2",
   "metadata": {},
   "outputs": [],
   "source": [
    "student.extend(teachers)"
   ]
  },
  {
   "cell_type": "code",
   "execution_count": null,
   "id": "34117413",
   "metadata": {},
   "outputs": [],
   "source": [
    "student"
   ]
  },
  {
   "cell_type": "code",
   "execution_count": null,
   "id": "ac7b510c",
   "metadata": {},
   "outputs": [],
   "source": [
    "class_stu= student.copy()"
   ]
  },
  {
   "cell_type": "code",
   "execution_count": null,
   "id": "a0f78a79",
   "metadata": {},
   "outputs": [],
   "source": [
    "class_stu"
   ]
  },
  {
   "cell_type": "code",
   "execution_count": null,
   "id": "3cf0e78d",
   "metadata": {},
   "outputs": [],
   "source": [
    "student"
   ]
  },
  {
   "cell_type": "code",
   "execution_count": 27,
   "id": "04ddd43f",
   "metadata": {},
   "outputs": [],
   "source": [
    "new_students= student"
   ]
  },
  {
   "cell_type": "code",
   "execution_count": 28,
   "id": "f45f14ae",
   "metadata": {},
   "outputs": [
    {
     "data": {
      "text/plain": [
       "['Yaseen',\n",
       " 'Ali',\n",
       " 'Mushtaq',\n",
       " 'Waseem',\n",
       " 'Wali',\n",
       " 'Momin',\n",
       " 'Farooq',\n",
       " 'Mhd',\n",
       " 'Wasi',\n",
       " 'Zaid',\n",
       " 'Kamran',\n",
       " 'Yasir',\n",
       " 'Yasir']"
      ]
     },
     "execution_count": 28,
     "metadata": {},
     "output_type": "execute_result"
    }
   ],
   "source": [
    "student"
   ]
  },
  {
   "cell_type": "code",
   "execution_count": 29,
   "id": "ab6e8bce",
   "metadata": {},
   "outputs": [
    {
     "data": {
      "text/plain": [
       "['Yaseen',\n",
       " 'Ali',\n",
       " 'Mushtaq',\n",
       " 'Waseem',\n",
       " 'Wali',\n",
       " 'Momin',\n",
       " 'Farooq',\n",
       " 'Mhd',\n",
       " 'Wasi',\n",
       " 'Zaid',\n",
       " 'Kamran',\n",
       " 'Yasir',\n",
       " 'Yasir']"
      ]
     },
     "execution_count": 29,
     "metadata": {},
     "output_type": "execute_result"
    }
   ],
   "source": [
    "new_students"
   ]
  },
  {
   "cell_type": "code",
   "execution_count": 30,
   "id": "c3eb8726",
   "metadata": {},
   "outputs": [],
   "source": [
    "student.append(\"Yasir\")"
   ]
  },
  {
   "cell_type": "code",
   "execution_count": 24,
   "id": "5cf483eb",
   "metadata": {},
   "outputs": [
    {
     "data": {
      "text/plain": [
       "['Yaseen',\n",
       " 'Ali',\n",
       " 'Mushtaq',\n",
       " 'Waseem',\n",
       " 'Wali',\n",
       " 'Momin',\n",
       " 'Farooq',\n",
       " 'Mhd',\n",
       " 'Wasi',\n",
       " 'Zaid',\n",
       " 'Kamran',\n",
       " 'Yasir',\n",
       " 'Yasir']"
      ]
     },
     "execution_count": 24,
     "metadata": {},
     "output_type": "execute_result"
    }
   ],
   "source": [
    "student"
   ]
  },
  {
   "cell_type": "code",
   "execution_count": 31,
   "id": "579be1be",
   "metadata": {},
   "outputs": [
    {
     "data": {
      "text/plain": [
       "2776682971200"
      ]
     },
     "execution_count": 31,
     "metadata": {},
     "output_type": "execute_result"
    }
   ],
   "source": [
    "id(student)"
   ]
  },
  {
   "cell_type": "code",
   "execution_count": 32,
   "id": "684cf264",
   "metadata": {},
   "outputs": [
    {
     "data": {
      "text/plain": [
       "2776682971200"
      ]
     },
     "execution_count": 32,
     "metadata": {},
     "output_type": "execute_result"
    }
   ],
   "source": [
    "id(new_students)"
   ]
  },
  {
   "cell_type": "markdown",
   "id": "8c201e41",
   "metadata": {},
   "source": [
    "# Pass by Value and Pass by reference"
   ]
  },
  {
   "cell_type": "code",
   "execution_count": 35,
   "id": "81fc25fd",
   "metadata": {},
   "outputs": [],
   "source": [
    "students= [\"Nasir Teacher\", \"Asad Teacher\"]"
   ]
  },
  {
   "cell_type": "code",
   "execution_count": 40,
   "id": "ee8287f3",
   "metadata": {},
   "outputs": [],
   "source": [
    "new_students= students"
   ]
  },
  {
   "cell_type": "code",
   "execution_count": 41,
   "id": "6a31a10a",
   "metadata": {},
   "outputs": [
    {
     "data": {
      "text/plain": [
       "['Nasir Teacher', 'Asad Teacher']"
      ]
     },
     "execution_count": 41,
     "metadata": {},
     "output_type": "execute_result"
    }
   ],
   "source": [
    "students"
   ]
  },
  {
   "cell_type": "code",
   "execution_count": 42,
   "id": "855ffaa9",
   "metadata": {},
   "outputs": [
    {
     "data": {
      "text/plain": [
       "['Nasir Teacher', 'Asad Teacher']"
      ]
     },
     "execution_count": 42,
     "metadata": {},
     "output_type": "execute_result"
    }
   ],
   "source": [
    "new_students"
   ]
  },
  {
   "cell_type": "code",
   "execution_count": 43,
   "id": "4ceae8c9",
   "metadata": {},
   "outputs": [
    {
     "data": {
      "text/plain": [
       "2774553529536"
      ]
     },
     "execution_count": 43,
     "metadata": {},
     "output_type": "execute_result"
    }
   ],
   "source": [
    "id(student)"
   ]
  },
  {
   "cell_type": "code",
   "execution_count": 44,
   "id": "7cb51944",
   "metadata": {},
   "outputs": [
    {
     "data": {
      "text/plain": [
       "2774555260416"
      ]
     },
     "execution_count": 44,
     "metadata": {},
     "output_type": "execute_result"
    }
   ],
   "source": [
    "id(new_students)"
   ]
  },
  {
   "cell_type": "code",
   "execution_count": 45,
   "id": "8c3540d2",
   "metadata": {},
   "outputs": [],
   "source": [
    "students.append(\"Yasir\")"
   ]
  },
  {
   "cell_type": "code",
   "execution_count": 46,
   "id": "9ab3fa4a",
   "metadata": {},
   "outputs": [
    {
     "data": {
      "text/plain": [
       "['Nasir Teacher', 'Asad Teacher', 'Yasir']"
      ]
     },
     "execution_count": 46,
     "metadata": {},
     "output_type": "execute_result"
    }
   ],
   "source": [
    "students"
   ]
  },
  {
   "cell_type": "code",
   "execution_count": 47,
   "id": "c23e4f6d",
   "metadata": {},
   "outputs": [
    {
     "data": {
      "text/plain": [
       "['Nasir Teacher', 'Asad Teacher', 'Yasir']"
      ]
     },
     "execution_count": 47,
     "metadata": {},
     "output_type": "execute_result"
    }
   ],
   "source": [
    "new_students"
   ]
  },
  {
   "cell_type": "code",
   "execution_count": 48,
   "id": "6be6101f",
   "metadata": {},
   "outputs": [
    {
     "data": {
      "text/plain": [
       "2774555260416"
      ]
     },
     "execution_count": 48,
     "metadata": {},
     "output_type": "execute_result"
    }
   ],
   "source": [
    "id(new_students)"
   ]
  },
  {
   "cell_type": "code",
   "execution_count": 49,
   "id": "b3d79fd6",
   "metadata": {},
   "outputs": [
    {
     "data": {
      "text/plain": [
       "2774553529536"
      ]
     },
     "execution_count": 49,
     "metadata": {},
     "output_type": "execute_result"
    }
   ],
   "source": [
    "id(student)"
   ]
  },
  {
   "cell_type": "code",
   "execution_count": 50,
   "id": "ccad7293",
   "metadata": {},
   "outputs": [],
   "source": [
    "a = 100"
   ]
  },
  {
   "cell_type": "code",
   "execution_count": 51,
   "id": "ec923f09",
   "metadata": {},
   "outputs": [],
   "source": [
    "b = a"
   ]
  },
  {
   "cell_type": "code",
   "execution_count": 52,
   "id": "4995d054",
   "metadata": {},
   "outputs": [],
   "source": [
    "c = 100"
   ]
  },
  {
   "cell_type": "code",
   "execution_count": 53,
   "id": "beec637c",
   "metadata": {},
   "outputs": [
    {
     "data": {
      "text/plain": [
       "140718753816456"
      ]
     },
     "execution_count": 53,
     "metadata": {},
     "output_type": "execute_result"
    }
   ],
   "source": [
    "id(a)"
   ]
  },
  {
   "cell_type": "code",
   "execution_count": 54,
   "id": "cc664e8e",
   "metadata": {},
   "outputs": [
    {
     "data": {
      "text/plain": [
       "140718753816456"
      ]
     },
     "execution_count": 54,
     "metadata": {},
     "output_type": "execute_result"
    }
   ],
   "source": [
    "id(b)"
   ]
  },
  {
   "cell_type": "code",
   "execution_count": 55,
   "id": "8d499b3b",
   "metadata": {},
   "outputs": [
    {
     "data": {
      "text/plain": [
       "140718753816456"
      ]
     },
     "execution_count": 55,
     "metadata": {},
     "output_type": "execute_result"
    }
   ],
   "source": [
    "id(c)"
   ]
  },
  {
   "cell_type": "markdown",
   "id": "5b015e4e",
   "metadata": {},
   "source": [
    "# List Slicing"
   ]
  },
  {
   "cell_type": "code",
   "execution_count": 57,
   "id": "f92d8962",
   "metadata": {},
   "outputs": [],
   "source": [
    "team= [\"Yaseen\", \"Ali\", \"Mushtaq\", \"Wali\", \"Momin\", \"Farooq\", \"Mhd\", \"Elen\"]"
   ]
  },
  {
   "cell_type": "markdown",
   "id": "6fd4c81f",
   "metadata": {},
   "source": [
    "### index"
   ]
  },
  {
   "cell_type": "code",
   "execution_count": 58,
   "id": "5f5325f3",
   "metadata": {},
   "outputs": [
    {
     "data": {
      "text/plain": [
       "'Farooq'"
      ]
     },
     "execution_count": 58,
     "metadata": {},
     "output_type": "execute_result"
    }
   ],
   "source": [
    "team[5]"
   ]
  },
  {
   "cell_type": "code",
   "execution_count": 59,
   "id": "dc19e33a",
   "metadata": {},
   "outputs": [
    {
     "data": {
      "text/plain": [
       "['Farooq']"
      ]
     },
     "execution_count": 59,
     "metadata": {},
     "output_type": "execute_result"
    }
   ],
   "source": [
    "team[5:6]"
   ]
  },
  {
   "cell_type": "code",
   "execution_count": 60,
   "id": "d2ac4a7e",
   "metadata": {},
   "outputs": [
    {
     "data": {
      "text/plain": [
       "['Farooq', 'Mhd']"
      ]
     },
     "execution_count": 60,
     "metadata": {},
     "output_type": "execute_result"
    }
   ],
   "source": [
    "team[5:7]"
   ]
  },
  {
   "cell_type": "code",
   "execution_count": 61,
   "id": "05eba399",
   "metadata": {},
   "outputs": [
    {
     "data": {
      "text/plain": [
       "'Elen'"
      ]
     },
     "execution_count": 61,
     "metadata": {},
     "output_type": "execute_result"
    }
   ],
   "source": [
    "team[-1]"
   ]
  },
  {
   "cell_type": "code",
   "execution_count": 62,
   "id": "2bf4110f",
   "metadata": {},
   "outputs": [
    {
     "data": {
      "text/plain": [
       "['Wali', 'Momin']"
      ]
     },
     "execution_count": 62,
     "metadata": {},
     "output_type": "execute_result"
    }
   ],
   "source": [
    "team[3:5:1]"
   ]
  },
  {
   "cell_type": "code",
   "execution_count": 64,
   "id": "112c98d1",
   "metadata": {},
   "outputs": [
    {
     "data": {
      "text/plain": [
       "[]"
      ]
     },
     "execution_count": 64,
     "metadata": {},
     "output_type": "execute_result"
    }
   ],
   "source": [
    "team[1:5:-1]"
   ]
  },
  {
   "cell_type": "code",
   "execution_count": 65,
   "id": "2f4923d2",
   "metadata": {},
   "outputs": [
    {
     "data": {
      "text/plain": [
       "['Elen', 'Mhd', 'Farooq', 'Momin', 'Wali', 'Mushtaq', 'Ali', 'Yaseen']"
      ]
     },
     "execution_count": 65,
     "metadata": {},
     "output_type": "execute_result"
    }
   ],
   "source": [
    "team[::-1]"
   ]
  },
  {
   "cell_type": "code",
   "execution_count": 66,
   "id": "38e0cd6a",
   "metadata": {},
   "outputs": [
    {
     "data": {
      "text/plain": [
       "['Ali', 'Wali', 'Farooq']"
      ]
     },
     "execution_count": 66,
     "metadata": {},
     "output_type": "execute_result"
    }
   ],
   "source": [
    "team[1:7:2]"
   ]
  },
  {
   "cell_type": "code",
   "execution_count": 67,
   "id": "c74bbc12",
   "metadata": {},
   "outputs": [
    {
     "data": {
      "text/plain": [
       "[]"
      ]
     },
     "execution_count": 67,
     "metadata": {},
     "output_type": "execute_result"
    }
   ],
   "source": [
    "team[8:-1]"
   ]
  },
  {
   "cell_type": "code",
   "execution_count": 68,
   "id": "48de23d6",
   "metadata": {},
   "outputs": [
    {
     "data": {
      "text/plain": [
       "['Elen', 'Mhd', 'Farooq', 'Momin', 'Wali', 'Mushtaq']"
      ]
     },
     "execution_count": 68,
     "metadata": {},
     "output_type": "execute_result"
    }
   ],
   "source": [
    "team[8:1:-1]"
   ]
  },
  {
   "cell_type": "code",
   "execution_count": 69,
   "id": "9373414d",
   "metadata": {},
   "outputs": [],
   "source": [
    "team.sort()"
   ]
  },
  {
   "cell_type": "code",
   "execution_count": 70,
   "id": "623d9082",
   "metadata": {},
   "outputs": [
    {
     "data": {
      "text/plain": [
       "['Ali', 'Elen', 'Farooq', 'Mhd', 'Momin', 'Mushtaq', 'Wali', 'Yaseen']"
      ]
     },
     "execution_count": 70,
     "metadata": {},
     "output_type": "execute_result"
    }
   ],
   "source": [
    "team"
   ]
  },
  {
   "cell_type": "code",
   "execution_count": null,
   "id": "cf117ee0",
   "metadata": {},
   "outputs": [],
   "source": []
  }
 ],
 "metadata": {
  "kernelspec": {
   "display_name": "Python 3 (ipykernel)",
   "language": "python",
   "name": "python3"
  },
  "language_info": {
   "codemirror_mode": {
    "name": "ipython",
    "version": 3
   },
   "file_extension": ".py",
   "mimetype": "text/x-python",
   "name": "python",
   "nbconvert_exporter": "python",
   "pygments_lexer": "ipython3",
   "version": "3.11.5"
  }
 },
 "nbformat": 4,
 "nbformat_minor": 5
}
